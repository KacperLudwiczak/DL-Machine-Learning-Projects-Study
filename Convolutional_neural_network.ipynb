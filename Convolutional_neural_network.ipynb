{
  "nbformat": 4,
  "nbformat_minor": 0,
  "metadata": {
    "colab": {
      "provenance": [],
      "include_colab_link": true
    },
    "kernelspec": {
      "name": "python3",
      "display_name": "Python 3"
    }
  },
  "cells": [
    {
      "cell_type": "markdown",
      "metadata": {
        "id": "view-in-github",
        "colab_type": "text"
      },
      "source": [
        "<a href=\"https://colab.research.google.com/github/KacperLudwiczak/DL-Machine-Learning-Projects-Study/blob/main/Convolutional_neural_network.ipynb\" target=\"_parent\"><img src=\"https://colab.research.google.com/assets/colab-badge.svg\" alt=\"Open In Colab\"/></a>"
      ]
    },
    {
      "cell_type": "markdown",
      "metadata": {
        "id": "3DR-eO17geWu"
      },
      "source": [
        "# Convolutional Neural Network"
      ]
    },
    {
      "cell_type": "markdown",
      "metadata": {
        "id": "EMefrVPCg-60"
      },
      "source": [
        "### Importing the libraries"
      ]
    },
    {
      "cell_type": "code",
      "metadata": {
        "id": "sCV30xyVhFbE"
      },
      "source": [
        "import tensorflow as tf\n",
        "from keras.preprocessing.image import ImageDataGenerator"
      ],
      "execution_count": null,
      "outputs": []
    },
    {
      "cell_type": "code",
      "metadata": {
        "id": "FIleuCAjoFD8",
        "colab": {
          "base_uri": "https://localhost:8080/",
          "height": 35
        },
        "outputId": "6214cbe3-58d6-410b-d386-1eb3d1a7b7bf"
      },
      "source": [
        "tf.__version__"
      ],
      "execution_count": null,
      "outputs": [
        {
          "output_type": "execute_result",
          "data": {
            "text/plain": [
              "'2.11.0'"
            ],
            "application/vnd.google.colaboratory.intrinsic+json": {
              "type": "string"
            }
          },
          "metadata": {},
          "execution_count": 2
        }
      ]
    },
    {
      "cell_type": "markdown",
      "metadata": {
        "id": "oxQxCBWyoGPE"
      },
      "source": [
        "## Part 1 - Data Preprocessing"
      ]
    },
    {
      "cell_type": "markdown",
      "metadata": {
        "id": "MvE-heJNo3GG"
      },
      "source": [
        "### Preprocessing the Training set"
      ]
    },
    {
      "cell_type": "code",
      "metadata": {
        "id": "0koUcJMJpEBD"
      },
      "source": [
        "train_datagen = ImageDataGenerator(rescale = 1./255,\n",
        "                                   shear_range = 0.2,\n",
        "                                   zoom_range = 0.2,\n",
        "                                   horizontal_flip = True)\n",
        "training_set = train_datagen.flow_from_directory('dataset/training_set',\n",
        "                                                 target_size = (64, 64),\n",
        "                                                 batch_size = 32,\n",
        "                                                 class_mode = 'binary')\n",
        "\n",
        "# Ten kod służy do tworzenia obiektu ImageDataGenerator i przepływu danych z katalogu.\n",
        "# ImageDataGenerator jest używany do wykonywania augmentacji danych na obrazach. W tym przykładzie użyte są następujące parametry:\n",
        "# rescale = 1./255: przeskalowuje wartości pikseli obrazów tak, aby mieściły się w zakresie od 0 do 1.\n",
        "# shear_range = 0.2: stosuje losowe przekształcenia cieniowania obrazów.\n",
        "# zoom_range = 0.2: stosuje losowe przekształcenia zoomowania obrazów.\n",
        "# horizontal_flip = True: losowo odbija obrazy w poziomie.\n",
        "# Metoda flow_from_directory służy do ładowania obrazów z katalogu i generowania partii z augmentowanymi danymi. W tym przykładzie użyte są następujące parametry:\n",
        "# 'dataset/training_set': ścieżka do katalogu zawierającego obrazy zbioru treningowego.\n",
        "# target_size = (64, 64): rozmiar, do którego będą zmieniane obrazy.\n",
        "# batch_size = 32: rozmiar partii danych, które będą generowane.\n",
        "# class_mode = 'binary': rodzaj etykiet, które zostaną wygenerowane. W tym przypadku etykiety będą binarne (0 lub 1), ponieważ to jest problem klasyfikacji binarnej."
      ],
      "execution_count": null,
      "outputs": []
    },
    {
      "cell_type": "markdown",
      "metadata": {
        "id": "mrCMmGw9pHys"
      },
      "source": [
        "### Preprocessing the Test set"
      ]
    },
    {
      "cell_type": "code",
      "metadata": {
        "id": "SH4WzfOhpKc3"
      },
      "source": [
        "test_datagen = ImageDataGenerator(rescale = 1./255)\n",
        "test_set = test_datagen.flow_from_directory('dataset/test_set',\n",
        "                                            target_size = (64, 64),\n",
        "                                            batch_size = 32,\n",
        "                                            class_mode = 'binary')\n",
        "\n",
        "# Ten kod służy do tworzenia obiektu ImageDataGenerator i przepływu danych z katalogu testowego.\n",
        "# ImageDataGenerator jest używany do przeskalowania pikseli obrazów testowych. W tym przykładzie użyty jest tylko jeden parametr:\n",
        "# rescale = 1./255: przeskalowuje wartości pikseli obrazów testowych tak, aby mieściły się w zakresie od 0 do 1.\n",
        "# Metoda flow_from_directory służy do ładowania obrazów z katalogu testowego i generowania partii danych. W tym przykładzie użyte są następujące parametry:\n",
        "# 'dataset/test_set': ścieżka do katalogu zawierającego obrazy zbioru testowego.\n",
        "# target_size = (64, 64): rozmiar, do którego będą zmieniane obrazy.\n",
        "# batch_size = 32: rozmiar partii danych, które będą generowane.\n",
        "# class_mode = 'binary': rodzaj etykiet, które zostaną wygenerowane. W tym przypadku etykiety będą binarne (0 lub 1), ponieważ to jest problem klasyfikacji binarnej."
      ],
      "execution_count": null,
      "outputs": []
    },
    {
      "cell_type": "markdown",
      "metadata": {
        "id": "af8O4l90gk7B"
      },
      "source": [
        "## Part 2 - Building the CNN"
      ]
    },
    {
      "cell_type": "markdown",
      "metadata": {
        "id": "ces1gXY2lmoX"
      },
      "source": [
        "### Initialising the CNN"
      ]
    },
    {
      "cell_type": "code",
      "metadata": {
        "id": "SAUt4UMPlhLS"
      },
      "source": [
        "cnn = tf.keras.models.Sequential()\n",
        "\n",
        "# Ten kod służy do tworzenia sekwencyjnego modelu sieci neuronowej przy użyciu biblioteki Keras z pakietu Tensorflow.\n",
        "# Model ten pozwala na definiowanie warstw sieci neuronowej w kolejności sekwencyjnej.\n",
        "# Aby dodać kolejne warstwy do modelu, należy użyć metody .add().\n",
        "# Przykładowo, aby dodać warstwę konwolucyjną, można użyć kodu cnn.add(tf.keras.layers.Conv2D(filters=32, kernel_size=3, activation='relu', input_shape=[64, 64, 3])).\n",
        "# W kolejnych liniach kodu definiowane są kolejne warstwy sieci neuronowej, aż do osiągnięcia końcowej warstwy wyjściowej."
      ],
      "execution_count": null,
      "outputs": []
    },
    {
      "cell_type": "markdown",
      "metadata": {
        "id": "u5YJj_XMl5LF"
      },
      "source": [
        "### Step 1 - Convolution"
      ]
    },
    {
      "cell_type": "code",
      "metadata": {
        "id": "XPzPrMckl-hV"
      },
      "source": [
        "cnn.add(tf.keras.layers.Conv2D(filters=32, kernel_size=3, activation='relu', input_shape=[64, 64, 3]))\n",
        "\n",
        "# Ten kod dodaje warstwę konwolucyjną do sekwencyjnego modelu sieci neuronowej.\n",
        "# tf.keras.layers.Conv2D to warstwa konwolucyjna dwuwymiarowa, która przetwarza wejściowe obrazy.\n",
        "# W tym przypadku, filters=32 oznacza liczbę filtrów konwolucyjnych, kernel_size=3 określa rozmiar jądra konwolucyjnego, a activation='relu' definiuje funkcję aktywacji, która będzie stosowana do wyników konwolucji.\n",
        "# Parametr input_shape określa wymiary wejściowe dla obrazów, które będą przetwarzane przez tę warstwę. W tym przypadku obrazy będą miały wymiary 64x64 pikseli z 3 kanałami (RGB)."
      ],
      "execution_count": null,
      "outputs": []
    },
    {
      "cell_type": "markdown",
      "metadata": {
        "id": "tf87FpvxmNOJ"
      },
      "source": [
        "### Step 2 - Pooling"
      ]
    },
    {
      "cell_type": "code",
      "metadata": {
        "id": "ncpqPl69mOac"
      },
      "source": [
        "cnn.add(tf.keras.layers.MaxPool2D(pool_size=2, strides=2))\n",
        "\n",
        "# Ten kod dodaje warstwę poolingową do sekwencyjnego modelu sieci neuronowej.\n",
        "# tf.keras.layers.MaxPool2D to warstwa poolingowa typu maksymalnego, która zmniejsza wymiary wejściowe przez zastosowanie operacji max-pooling na wynikach warstwy poprzedniej.\n",
        "# W tym przypadku, pool_size=2 określa rozmiar obszaru poolingowego, a strides=2 określa, o ile przesuwane są okna poolingowe podczas wykonywania operacji.\n",
        "# Dzięki zastosowaniu warstwy poolingowej, sieć neuronowa staje się mniej wrażliwa na przesunięcia i skalowanie wejściowych obrazów, co może przyspieszyć proces uczenia oraz poprawić skuteczność klasyfikacji."
      ],
      "execution_count": null,
      "outputs": []
    },
    {
      "cell_type": "markdown",
      "metadata": {
        "id": "xaTOgD8rm4mU"
      },
      "source": [
        "### Adding a second convolutional layer"
      ]
    },
    {
      "cell_type": "code",
      "metadata": {
        "id": "i_-FZjn_m8gk"
      },
      "source": [
        "cnn.add(tf.keras.layers.Conv2D(filters=32, kernel_size=3, activation='relu'))\n",
        "cnn.add(tf.keras.layers.MaxPool2D(pool_size=2, strides=2))\n",
        "\n",
        "# Ten kod dodaje kolejne dwie warstwy do sekwencyjnego modelu sieci neuronowej.\n",
        "# Warstwa konwolucyjna tf.keras.layers.Conv2D i warstwa poolingowa typu maksymalnego tf.keras.layers.MaxPool2D są dodawane po sobie w celu wykrycia kolejnych cech na obrazie i zmniejszenia wymiarów wejściowych.\n",
        "# W tym przypadku, parametry filters, kernel_size i activation warstwy konwolucyjnej są takie same jak w poprzedniej warstwie.\n",
        "# Warstwa poolingowa ma również takie same parametry jak w poprzedniej warstwie, czyli pool_size=2 i strides=2.\n",
        "# Dodanie kolejnych warstw pozwala na budowanie coraz bardziej skomplikowanych i zaawansowanych modeli sieci neuronowej, które mogą lepiej wykrywać cechy i klasyfikować obrazy."
      ],
      "execution_count": null,
      "outputs": []
    },
    {
      "cell_type": "markdown",
      "metadata": {
        "id": "tmiEuvTunKfk"
      },
      "source": [
        "### Step 3 - Flattening"
      ]
    },
    {
      "cell_type": "code",
      "metadata": {
        "id": "6AZeOGCvnNZn"
      },
      "source": [
        "cnn.add(tf.keras.layers.Flatten())\n",
        "\n",
        "# Ten kod dodaje warstwę Flatten do sekwencyjnego modelu sieci neuronowej.\n",
        "# Warstwa Flatten służy do spłaszczania tensorów wielowymiarowych do jednowymiarowych, co jest wymagane przed dodaniem warstwy typu Dense (w pełni połączonej) do sieci neuronowej.\n",
        "# W przypadku sieci konwolucyjnych, dane wejściowe mają zwykle trzy wymiary: wysokość, szerokość i liczba kanałów. Dzięki zastosowaniu warstw konwolucyjnych i poolingowych, szerokość i wysokość obrazów ulegają zmniejszeniu, natomiast liczba kanałów pozostaje niezmieniona.\n",
        "# Warstwa Flatten spłaszcza te trzy wymiary do jednego wymiaru, co pozwala na przekształcenie danych wejściowych do formy, która może być przetwarzana przez warstwy typu Dense."
      ],
      "execution_count": null,
      "outputs": []
    },
    {
      "cell_type": "markdown",
      "metadata": {
        "id": "dAoSECOm203v"
      },
      "source": [
        "### Step 4 - Full Connection"
      ]
    },
    {
      "cell_type": "code",
      "metadata": {
        "id": "8GtmUlLd26Nq"
      },
      "source": [
        "cnn.add(tf.keras.layers.Dense(units=128, activation='relu'))\n",
        "\n",
        "# Ten kod dodaje w pełni połączoną warstwę typu Dense do sekwencyjnego modelu sieci neuronowej.\n",
        "# Warstwa Dense zawiera neurony, które są w pełni połączone z neuronami z warstwy poprzedniej. Każdy neuron w warstwie Dense otrzymuje wektor wejściowy o takiej samej długości i wykonuje na nim operację liniową, po której stosowana jest funkcja aktywacji.\n",
        "# W tym przypadku, parametr units=128 określa liczbę neuronów w warstwie Dense, a activation='relu' określa funkcję aktywacji jako ReLU.\n",
        "# Warstwa Dense pozwala na budowanie modeli sieci neuronowych, które mogą uczyć się skomplikowanych zależności między cechami wejściowymi a etykietami wyjściowymi, co jest szczególnie przydatne w zadaniach klasyfikacji obrazów."
      ],
      "execution_count": null,
      "outputs": []
    },
    {
      "cell_type": "markdown",
      "metadata": {
        "id": "yTldFvbX28Na"
      },
      "source": [
        "### Step 5 - Output Layer"
      ]
    },
    {
      "cell_type": "code",
      "metadata": {
        "id": "1p_Zj1Mc3Ko_"
      },
      "source": [
        "cnn.add(tf.keras.layers.Dense(units=1, activation='sigmoid'))\n",
        "\n",
        "# Ten kod dodaje ostatnią warstwę typu Dense do sekwencyjnego modelu sieci neuronowej.\n",
        "# W przypadku zadania klasyfikacji binarnej, ta ostatnia warstwa Dense zawiera tylko jeden neuron, który zwraca wartości z przedziału 0 do 1. Funkcja aktywacji jest ustawiona na sigmoid, co oznacza, że wartość wyjściowa będzie interpretowana jako prawdopodobieństwo przynależności do jednej z dwóch klas.\n",
        "# W przypadku zadania klasyfikacji wieloklasowej, ostatnia warstwa Dense zwykle zawiera tyle neuronów, ile jest klas w zbiorze danych, a funkcja aktywacji jest ustawiona na softmax. W ten sposób, wartości wyjściowe są interpretowane jako rozkład prawdopodobieństwa dla każdej klasy."
      ],
      "execution_count": null,
      "outputs": []
    },
    {
      "cell_type": "markdown",
      "metadata": {
        "id": "D6XkI90snSDl"
      },
      "source": [
        "## Part 3 - Training the CNN"
      ]
    },
    {
      "cell_type": "markdown",
      "metadata": {
        "id": "vfrFQACEnc6i"
      },
      "source": [
        "### Compiling the CNN"
      ]
    },
    {
      "cell_type": "code",
      "metadata": {
        "id": "NALksrNQpUlJ"
      },
      "source": [
        "cnn.compile(optimizer = 'adam', loss = 'binary_crossentropy', metrics = ['accuracy'])\n",
        "\n",
        "# Ten kod kompiluje sekwencyjny model sieci neuronowej z wykorzystaniem optymalizatora Adam, funkcji straty binary_crossentropy i metryki accuracy.\n",
        "# Optymalizator Adam jest popularnym algorytmem optymalizacji gradientowej stosowanym w uczeniu maszynowym. Jego zadaniem jest minimalizacja funkcji kosztu poprzez zmianę wag sieci neuronowej w kierunku odwrotnym do gradientu funkcji kosztu.\n",
        "# Funkcja straty binary_crossentropy jest stosowana w zadaniach klasyfikacji binarnej, a jej wartość mierzy odległość między przewidywaniami sieci neuronowej a rzeczywistymi etykietami binarnymi. Im mniejsza wartość funkcji straty, tym lepsze przewidywania sieci neuronowej.\n",
        "# Metryka accuracy jest używana do oceny jakości modelu podczas uczenia. Jest to stosunek liczby poprawnych predykcji do liczby wszystkich predykcji."
      ],
      "execution_count": null,
      "outputs": []
    },
    {
      "cell_type": "markdown",
      "metadata": {
        "id": "ehS-v3MIpX2h"
      },
      "source": [
        "### Training the CNN on the Training set and evaluating it on the Test set"
      ]
    },
    {
      "cell_type": "code",
      "metadata": {
        "id": "XUj1W4PJptta"
      },
      "source": [
        "cnn.fit(x = training_set, validation_data = test_set, epochs = 25)\n",
        "\n",
        "# Ten kod trenuje sekwencyjny model sieci neuronowej z wykorzystaniem danych treningowych training_set i danych walidacyjnych test_set przez 25 epok.\n",
        "# Funkcja fit() stosowana jest do trenowania modeli sieci neuronowej. W tym przypadku, parametr x określa zbiór danych treningowych, a parametr validation_data określa zbiór danych walidacyjnych. W każdej epoce, model jest trenowany na danych treningowych i oceniany na danych walidacyjnych.\n",
        "# Parametr epochs określa liczbę epok, czyli liczbę razy, które model jest trenowany na całym zbiorze danych treningowych. W każdej epoce, model jest aktualizowany z wykorzystaniem algorytmu optymalizacji gradientowej, który minimalizuje funkcję kosztu.\n",
        "# Podczas uczenia, sieć neuronowa będzie dostosowywać swoje wagi i bias na podstawie informacji z danych wejściowych, tak aby minimalizować funkcję kosztu i uzyskać jak najlepsze przewidywania dla nowych danych."
      ],
      "execution_count": null,
      "outputs": []
    },
    {
      "cell_type": "markdown",
      "metadata": {
        "id": "U3PZasO0006Z"
      },
      "source": [
        "## Part 4 - Making a single prediction"
      ]
    },
    {
      "cell_type": "code",
      "metadata": {
        "id": "gsSiWEJY1BPB"
      },
      "source": [
        "import numpy as np\n",
        "from keras.preprocessing import image\n",
        "test_image = image.load_img('dataset/single_prediction/cat_or_dog_1.jpg', target_size = (64, 64))\n",
        "test_image = image.img_to_array(test_image)\n",
        "test_image = np.expand_dims(test_image, axis = 0)\n",
        "result = cnn.predict(test_image)\n",
        "training_set.class_indices\n",
        "if result[0][0] == 1:\n",
        "  prediction = 'dog'\n",
        "else:\n",
        "  prediction = 'cat'\n",
        "\n",
        "# Ten kod służy do dokonania predykcji na podstawie jednego zdjęcia.\n",
        "# Zaczynamy od importu potrzebnych bibliotek. Następnie, wczytujemy zdjęcie testowe cat_or_dog_1.jpg za pomocą funkcji image.load_img(), a następnie zmniejszamy jego rozmiar do (64, 64) pikseli i przekształcamy go w tablicę Numpy za pomocą funkcji image.img_to_array().\n",
        "# Następnie, dodajemy dodatkowy wymiar do tablicy za pomocą funkcji np.expand_dims(), ponieważ nasza sieć neuronowa wymaga danych wejściowych o wymiarach [batch_size, width, height, channels]. W tym przypadku batch_size wynosi 1.\n",
        "# Następnie przeprowadzamy predykcję na tablicy testowej za pomocą funkcji cnn.predict(). Wynik predykcji zapisujemy w zmiennej result.\n",
        "# Ostatnim krokiem jest sprawdzenie etykiet klas za pomocą atrybutu class_indices obiektu training_set, który określa, która klasa odpowiada wartości numerycznej 0 i 1. W zależności od wartości predykcji result[0][0], która będzie wynosić 1 dla psa i 0 dla kota, przypisujemy etykietę klasową dog lub cat do zmiennej prediction."
      ],
      "execution_count": null,
      "outputs": []
    },
    {
      "cell_type": "code",
      "metadata": {
        "id": "ED9KB3I54c1i"
      },
      "source": [
        "print(prediction)"
      ],
      "execution_count": null,
      "outputs": []
    }
  ]
}